{
 "cells": [
  {
   "cell_type": "code",
   "execution_count": 1,
   "id": "9ad819a3",
   "metadata": {
    "collapsed": true
   },
   "outputs": [
    {
     "name": "stdout",
     "output_type": "stream",
     "text": [
      "enter the number:9786542345\n",
      "sum of odd digits= 29\n"
     ]
    }
   ],
   "source": [
    "# write a python program to print the sum of odd digits\n",
    "# present in the given num:ex:18342769:1+3+7+9=20\n",
    "num=input(\"enter the number:\")\n",
    "sm=0\n",
    "for v in num: \n",
    "    if v.isdigit():\n",
    "        if int(v)%2==1:\n",
    "            sm+=int(v)\n",
    "print(\"sum of odd digits=\",sm)"
   ]
  },
  {
   "cell_type": "markdown",
   "id": "69421196",
   "metadata": {},
   "source": [
    "#### comprehensions\n",
    "- list,set and dictionary\n",
    "- comprehension means a paragraph which is shortest description about something\n",
    "- **syntax**\n",
    "    - [output input_sequence condition_check]\n",
    "    - {output input condition}"
   ]
  },
  {
   "cell_type": "code",
   "execution_count": 2,
   "id": "fa1774d2",
   "metadata": {
    "collapsed": true
   },
   "outputs": [
    {
     "name": "stdout",
     "output_type": "stream",
     "text": [
      "10\n",
      "20\n",
      "[100, 121, 144, 169, 196, 225, 256, 289, 324, 361, 400]\n"
     ]
    }
   ],
   "source": [
    "# list comprehension\n",
    "# write a python program to store squares of numbers in a range\n",
    "li=[]\n",
    "lw,up=int(input()),int(input()) \n",
    "# lw,up=10,5-->lw=10 and up=5\n",
    "for v in range(lw,up+1):\n",
    "    li.append(v**2)\n",
    "print(li)\n"
   ]
  },
  {
   "cell_type": "code",
   "execution_count": 3,
   "id": "b03a02aa",
   "metadata": {
    "collapsed": true
   },
   "outputs": [
    {
     "name": "stdout",
     "output_type": "stream",
     "text": [
      "10\n",
      "20\n",
      "100\n",
      "121\n",
      "144\n",
      "169\n",
      "196\n",
      "225\n",
      "256\n",
      "289\n",
      "324\n",
      "361\n",
      "400\n"
     ]
    }
   ],
   "source": [
    "# using comprehensions\n",
    "sqs=[print(v**2) for v in range(int(input()),int(input())+1)]"
   ]
  },
  {
   "cell_type": "code",
   "execution_count": 4,
   "id": "7ebe2e1d",
   "metadata": {
    "collapsed": true
   },
   "outputs": [
    {
     "name": "stdout",
     "output_type": "stream",
     "text": [
      "100\n",
      "144\n",
      "196\n",
      "256\n",
      "324\n",
      "400\n",
      "484\n",
      "576\n",
      "676\n",
      "784\n",
      "900\n",
      "1024\n",
      "1156\n",
      "1296\n",
      "1444\n"
     ]
    }
   ],
   "source": [
    "# set comprehension\n",
    "s={print(v**2) for v in range(10,40) if v%2==0}"
   ]
  },
  {
   "cell_type": "code",
   "execution_count": 10,
   "id": "e22e0325",
   "metadata": {},
   "outputs": [
    {
     "name": "stdout",
     "output_type": "stream",
     "text": [
      "I am from VVIT\n",
      "{'I': 73, 'a': 97, 'm': 109}\n"
     ]
    }
   ],
   "source": [
    "# dictionary comprehension\n",
    "#{k:v}:{word:meaning}\n",
    "# prepare a dict of chars whose ascii values are prime\n",
    "def is_prime(n):\n",
    "    fc=0\n",
    "    for dig in range(1,n//2+1):\n",
    "        if n%dig==0:\n",
    "            fc+=1\n",
    "    if fc==1:\n",
    "        return True\n",
    "    else:\n",
    "        return False\n",
    "    \n",
    "#is_prime(10),is_prime(11)\n",
    "chars={ch:ord(ch) for ch in input() if is_prime(ord(ch))}\n",
    "print(chars)"
   ]
  },
  {
   "cell_type": "code",
   "execution_count": 8,
   "id": "3ce59851",
   "metadata": {
    "collapsed": true
   },
   "outputs": [
    {
     "data": {
      "text/plain": [
       "(65, 'A')"
      ]
     },
     "execution_count": 8,
     "metadata": {},
     "output_type": "execute_result"
    }
   ],
   "source": [
    "ord('A'),chr(65)"
   ]
  },
  {
   "cell_type": "code",
   "execution_count": 7,
   "id": "deea2b60",
   "metadata": {
    "collapsed": true
   },
   "outputs": [
    {
     "data": {
      "text/plain": [
       "'A'"
      ]
     },
     "execution_count": 7,
     "metadata": {},
     "output_type": "execute_result"
    }
   ],
   "source": [
    "chr(65)"
   ]
  },
  {
   "cell_type": "markdown",
   "id": "34bae207",
   "metadata": {},
   "source": [
    "#### Files\n",
    "- anything that contains/stores the data in a specific format\n",
    "- files in our devices \n",
    "    - .txt,.doc,.xls,.pdf,.py,.c,.exe ,.jpg,.jpeg .apk etc\n",
    "- **File Operations**\n",
    "    1. open()\n",
    "        - 2 syntaxes to open the existed file\n",
    "            - by using open() and with open()\n",
    "    2. read()\n",
    "    3. write()\n",
    "    4. append()\n",
    "    5. close()"
   ]
  },
  {
   "cell_type": "code",
   "execution_count": 12,
   "id": "b24fa692",
   "metadata": {
    "collapsed": true
   },
   "outputs": [
    {
     "name": "stdout",
     "output_type": "stream",
     "text": [
      "This is my day1 session of DA workshop conducted by APSSDC.\n",
      "Working with files.\n"
     ]
    }
   ],
   "source": [
    "file=open(\"first.txt\",'r') # open(filename/path,'mode')\n",
    "print(file.read())# str\n",
    "file.close()"
   ]
  },
  {
   "cell_type": "code",
   "execution_count": 13,
   "id": "fff1ab60",
   "metadata": {
    "collapsed": true
   },
   "outputs": [
    {
     "data": {
      "text/plain": [
       "_io.TextIOWrapper"
      ]
     },
     "execution_count": 13,
     "metadata": {},
     "output_type": "execute_result"
    }
   ],
   "source": [
    "type(file)"
   ]
  },
  {
   "cell_type": "code",
   "execution_count": 16,
   "id": "ad98899f",
   "metadata": {
    "collapsed": true
   },
   "outputs": [
    {
     "name": "stdout",
     "output_type": "stream",
     "text": [
      "This is my day1 session of DA workshop conducted by APSSDC.\n",
      "Working with files.\n"
     ]
    }
   ],
   "source": [
    "# with open()\n",
    "with open(\"first.txt\",'r') as data:\n",
    "    dt=data.read() # str :mutable\n",
    "    print(dt)\n",
    "    data.close()\n",
    "    "
   ]
  },
  {
   "cell_type": "code",
   "execution_count": 17,
   "id": "888b7342",
   "metadata": {
    "collapsed": true
   },
   "outputs": [
    {
     "name": "stdout",
     "output_type": "stream",
     "text": [
      "['This is my day1 session of DA workshop conducted by APSSDC.\\n', 'Working with files.']\n"
     ]
    }
   ],
   "source": [
    "# readlines()\n",
    "with open(\"first.txt\",'r') as d:\n",
    "    dt=d.readlines()\n",
    "    print(dt)"
   ]
  },
  {
   "cell_type": "code",
   "execution_count": 18,
   "id": "9649ef21",
   "metadata": {
    "collapsed": true
   },
   "outputs": [
    {
     "name": "stdout",
     "output_type": "stream",
     "text": [
      "def factorial(n):\n",
      "    fact=1\n",
      "    for v in range(1,n+1):\n",
      "        fact*=v\n",
      "    return fact\n",
      "\n",
      "print(\"factorial of\",n,'=',factorial(10))\n"
     ]
    }
   ],
   "source": [
    "# write() on .py file\n",
    "py=open(\"first.py\",'r')\n",
    "print(py.read())\n",
    "py.close()"
   ]
  },
  {
   "cell_type": "code",
   "execution_count": 19,
   "id": "ac2671c7",
   "metadata": {},
   "outputs": [],
   "source": [
    "# write() method overwrites the existed data\n",
    "with open(\"first.py\",'w') as wr:\n",
    "    wr.write(\"print('data gets overwrited..!')\")\n",
    "    wr.close()"
   ]
  },
  {
   "cell_type": "code",
   "execution_count": 20,
   "id": "e904ce8b",
   "metadata": {},
   "outputs": [],
   "source": [
    "#append()\n",
    "ap=open(\"first.py\",'a')\n",
    "ap.write(\"\\nprint('new data gets added ..!')\")\n",
    "ap.close()"
   ]
  },
  {
   "cell_type": "code",
   "execution_count": null,
   "id": "2ff78fee",
   "metadata": {},
   "outputs": [],
   "source": []
  }
 ],
 "metadata": {
  "kernelspec": {
   "display_name": "Python 3 (ipykernel)",
   "language": "python",
   "name": "python3"
  },
  "language_info": {
   "codemirror_mode": {
    "name": "ipython",
    "version": 3
   },
   "file_extension": ".py",
   "mimetype": "text/x-python",
   "name": "python",
   "nbconvert_exporter": "python",
   "pygments_lexer": "ipython3",
   "version": "3.9.13"
  }
 },
 "nbformat": 4,
 "nbformat_minor": 5
}
