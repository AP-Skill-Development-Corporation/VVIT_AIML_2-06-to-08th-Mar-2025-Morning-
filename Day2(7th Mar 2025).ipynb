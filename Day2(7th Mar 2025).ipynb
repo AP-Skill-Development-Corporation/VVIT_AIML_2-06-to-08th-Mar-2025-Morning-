{
 "cells": [
  {
   "cell_type": "markdown",
   "id": "65b9ae4d",
   "metadata": {},
   "source": [
    "##### Day2 concepts\n",
    "- files\n",
    "- modules and packages\n",
    "- Introduction to DA"
   ]
  },
  {
   "cell_type": "code",
   "execution_count": 1,
   "id": "fbd4280f",
   "metadata": {},
   "outputs": [
    {
     "name": "stdout",
     "output_type": "stream",
     "text": [
      "This is my day1 session of DA workshop conducted by APSSDC.\n",
      "Working with files.\n"
     ]
    }
   ],
   "source": [
    "file=open(\"first.txt\",'r')\n",
    "print(file.read())\n",
    "file.close()"
   ]
  },
  {
   "cell_type": "code",
   "execution_count": 3,
   "id": "eb3efab0",
   "metadata": {
    "collapsed": true
   },
   "outputs": [
    {
     "name": "stdout",
     "output_type": "stream",
     "text": [
      "This is my day1 session of DA workshop conducted by APSSDC.\n",
      "Working with files.\n"
     ]
    }
   ],
   "source": [
    "with open(\"first.txt\",'r') as data:\n",
    "    print(data.read()) # str\n",
    "    data.close()"
   ]
  },
  {
   "cell_type": "code",
   "execution_count": 5,
   "id": "597807f5",
   "metadata": {
    "collapsed": true
   },
   "outputs": [
    {
     "name": "stdout",
     "output_type": "stream",
     "text": [
      "['def is_even(n):\\n', '    if n%2==0:\\n', '        return True\\n', '    else:\\n', '        return False\\n', '    \\n', 'is_even(10)']\n"
     ]
    }
   ],
   "source": [
    "# readlines\n",
    "py=open(\"first.py\",'r')\n",
    "print(py.readlines())\n",
    "py.close()"
   ]
  },
  {
   "cell_type": "code",
   "execution_count": 6,
   "id": "aa432e91",
   "metadata": {
    "collapsed": true
   },
   "outputs": [
    {
     "name": "stdout",
     "output_type": "stream",
     "text": [
      "def is_even(n):\n",
      "    if n%2==0:\n",
      "        return True\n",
      "    else:\n",
      "        return False\n",
      "    \n",
      "is_even(10)"
     ]
    }
   ],
   "source": [
    "with open('first.py') as file:\n",
    "    for line in file.readlines():\n",
    "        print(line,end=\"\")"
   ]
  },
  {
   "cell_type": "code",
   "execution_count": 2,
   "id": "81d4eb6b",
   "metadata": {
    "collapsed": true
   },
   "outputs": [
    {
     "name": "stdout",
     "output_type": "stream",
     "text": [
      "This is day2 session \n",
      "continued with files concept\n",
      "file and file operations\n",
      "\n"
     ]
    }
   ],
   "source": [
    "f=open(\"second.txt\",'r')\n",
    "print(f.read())\n",
    "f.close()"
   ]
  },
  {
   "cell_type": "code",
   "execution_count": 7,
   "id": "0f59c4e6",
   "metadata": {},
   "outputs": [
    {
     "name": "stdout",
     "output_type": "stream",
     "text": [
      "['This is day2 session \\n', 'continued with files concept\\n', 'file and file operations\\n']\n"
     ]
    }
   ],
   "source": [
    "# readlines\n",
    "with open(\"second.txt\",'r') as f2:\n",
    "    print(f2.readlines())"
   ]
  },
  {
   "cell_type": "code",
   "execution_count": 8,
   "id": "541ae0ab",
   "metadata": {},
   "outputs": [],
   "source": [
    "# write() but it overwrites the existed file\n",
    "wr=open(\"second.txt\",'w')\n",
    "wr.write(\"trying to add new content but old data is erased..!\")\n",
    "wr.close()"
   ]
  },
  {
   "cell_type": "code",
   "execution_count": 9,
   "id": "4b62742d",
   "metadata": {},
   "outputs": [],
   "source": [
    "# append() is the mode \n",
    "op=open(\"second.txt\",'a') \n",
    "op.write(\"!..adding new content..!\")\n",
    "op.close()"
   ]
  },
  {
   "cell_type": "code",
   "execution_count": 10,
   "id": "4817b8f0",
   "metadata": {},
   "outputs": [],
   "source": [
    "# we can create the new file using write()\n",
    "new=open(\"new.py\",'w')\n",
    "new.write(\"print('file is created using write()')\")\n",
    "new.close()"
   ]
  },
  {
   "cell_type": "code",
   "execution_count": 11,
   "id": "5b64b931",
   "metadata": {
    "collapsed": true
   },
   "outputs": [
    {
     "name": "stdout",
     "output_type": "stream",
     "text": [
      "This is my day1 session of DA workshop conducted by APSSDC.\n",
      "Working with files.\n"
     ]
    }
   ],
   "source": [
    "# r+ mode is used for both read() and write() at a time\n",
    "both=open(\"first.txt\",'r+')\n",
    "print(both.read())\n",
    "both.write(\"working r+ mode which is used for both read&write\")\n",
    "both.close()"
   ]
  },
  {
   "cell_type": "code",
   "execution_count": 16,
   "id": "df7064aa",
   "metadata": {
    "collapsed": true
   },
   "outputs": [
    {
     "name": "stdout",
     "output_type": "stream",
     "text": [
      "No.of alphabets= 95\n",
      "No.of special chars= 110\n",
      "No.of digits= 9\n",
      "No.of words= 214\n",
      "No.of lines= 12\n"
     ]
    }
   ],
   "source": [
    "# write a python program to open the .py file\n",
    "# find the no.of alphabets,special chars,words and no.of lines\n",
    "data=open(\"new.py\",'r')\n",
    "chc=spc=dc=wdc=lc=0\n",
    "for line in data.readlines():\n",
    "    for word in line:\n",
    "        for ch in word:\n",
    "            if ch.isalpha():\n",
    "                chc+=1\n",
    "            elif ch.isdigit():\n",
    "                dc+=1\n",
    "            else:\n",
    "                spc+=1\n",
    "        wdc+=1\n",
    "    lc+=1\n",
    "print(\"No.of alphabets=\",chc)\n",
    "print(\"No.of special chars=\",spc)\n",
    "print(\"No.of digits=\",dc)\n",
    "print(\"No.of words=\",wdc)\n",
    "print(\"No.of lines=\",lc)"
   ]
  },
  {
   "cell_type": "markdown",
   "id": "9d171983",
   "metadata": {},
   "source": [
    "#### Modules and Packages\n",
    "- collection/group of statements called as function\n",
    "- collection of functions called as module(python)\n",
    "- collection of modules called as package(java)"
   ]
  },
  {
   "cell_type": "code",
   "execution_count": 17,
   "id": "5f2c2526",
   "metadata": {},
   "outputs": [],
   "source": [
    "import package"
   ]
  },
  {
   "cell_type": "code",
   "execution_count": 20,
   "id": "3b6d1a14",
   "metadata": {},
   "outputs": [],
   "source": [
    "from package import fmodule,smodule"
   ]
  },
  {
   "cell_type": "code",
   "execution_count": 21,
   "id": "69b4f772",
   "metadata": {
    "collapsed": true
   },
   "outputs": [
    {
     "name": "stdout",
     "output_type": "stream",
     "text": [
      "['__builtins__', '__cached__', '__doc__', '__file__', '__loader__', '__name__', '__package__', '__spec__', 'factorial', 'is_even', 'is_perfect']\n"
     ]
    }
   ],
   "source": [
    "print(dir(fmodule))"
   ]
  },
  {
   "cell_type": "code",
   "execution_count": 22,
   "id": "5d7f05ed",
   "metadata": {
    "collapsed": true
   },
   "outputs": [
    {
     "name": "stdout",
     "output_type": "stream",
     "text": [
      "['__builtins__', '__cached__', '__doc__', '__file__', '__loader__', '__name__', '__package__', '__spec__', 'is_palindrome', 'string_methods']\n"
     ]
    }
   ],
   "source": [
    "print(dir(smodule))"
   ]
  },
  {
   "cell_type": "code",
   "execution_count": 23,
   "id": "f844c16a",
   "metadata": {
    "collapsed": true
   },
   "outputs": [
    {
     "name": "stdout",
     "output_type": "stream",
     "text": [
      "Help on function factorial in module package.fmodule:\n",
      "\n",
      "factorial(n)\n",
      "    #is_even(n)\n",
      "\n"
     ]
    }
   ],
   "source": [
    "help(fmodule.factorial)"
   ]
  },
  {
   "cell_type": "code",
   "execution_count": 24,
   "id": "f07643ee",
   "metadata": {
    "collapsed": true
   },
   "outputs": [
    {
     "data": {
      "text/plain": [
       "120"
      ]
     },
     "execution_count": 24,
     "metadata": {},
     "output_type": "execute_result"
    }
   ],
   "source": [
    "fmodule.factorial(5)"
   ]
  },
  {
   "cell_type": "code",
   "execution_count": 25,
   "id": "f158570e",
   "metadata": {
    "collapsed": true
   },
   "outputs": [
    {
     "data": {
      "text/plain": [
       "False"
      ]
     },
     "execution_count": 25,
     "metadata": {},
     "output_type": "execute_result"
    }
   ],
   "source": [
    "fmodule.is_even(11)"
   ]
  },
  {
   "cell_type": "code",
   "execution_count": 26,
   "id": "bb0641d8",
   "metadata": {},
   "outputs": [
    {
     "data": {
      "text/plain": [
       "True"
      ]
     },
     "execution_count": 26,
     "metadata": {},
     "output_type": "execute_result"
    }
   ],
   "source": [
    "fmodule.is_perfect(6)"
   ]
  },
  {
   "cell_type": "code",
   "execution_count": 27,
   "id": "697ea37d",
   "metadata": {
    "collapsed": true
   },
   "outputs": [
    {
     "name": "stdout",
     "output_type": "stream",
     "text": [
      "6 28 496 "
     ]
    }
   ],
   "source": [
    "for v in range(1,1000):\n",
    "    if fmodule.is_perfect(v):\n",
    "        print(v,end=\" \")"
   ]
  },
  {
   "cell_type": "code",
   "execution_count": 28,
   "id": "ee45b461",
   "metadata": {
    "collapsed": true
   },
   "outputs": [
    {
     "name": "stdout",
     "output_type": "stream",
     "text": [
      "Help on function string_methods in module package.smodule:\n",
      "\n",
      "string_methods(st, ch)\n",
      "\n"
     ]
    }
   ],
   "source": [
    "help(smodule.string_methods)"
   ]
  },
  {
   "cell_type": "code",
   "execution_count": 29,
   "id": "c547378b",
   "metadata": {
    "collapsed": true
   },
   "outputs": [
    {
     "name": "stdout",
     "output_type": "stream",
     "text": [
      "string starts with False\n",
      "no.of chars= 4\n",
      "i am from apssdc located at tadepalli\n",
      "I AM FROM APSSDC LOCATED AT TADEPALLI\n",
      "I Am From Apssdc Located At Tadepalli\n",
      "I am from apssdc located at tadepalli\n",
      "i AM FRom apssDC LOCATED AT tADEpallI\n"
     ]
    }
   ],
   "source": [
    "smodule.string_methods(\"I am frOM APSSdc located at TadePALLi\",'a')"
   ]
  },
  {
   "cell_type": "markdown",
   "id": "0698699f",
   "metadata": {},
   "source": [
    "#### Introduction to Data Analysis\n",
    "- information stored in a file called as a data\n",
    "- The study of data is called data science\n",
    "- Machine Learning and Artificial Intelligence are the parts of DS\n",
    "- Analysis the data/dataset\n",
    "- **Modules of Data Science**\n",
    "    1. Numpy\n",
    "        - Numerical Python used for scientific computation of data\n",
    "        - numpy stores the data in array format\n",
    "        - array() is the sub module of numpy\n",
    "        - array() is the homogenous data structure allows only one type of data\n",
    "    2. Pandas\n",
    "    3. Matplot library\n",
    "    4. Scikit Learn\n",
    "    5. Seaborn"
   ]
  },
  {
   "cell_type": "code",
   "execution_count": 30,
   "id": "a63cd5ce",
   "metadata": {},
   "outputs": [],
   "source": [
    "import numpy as var"
   ]
  },
  {
   "cell_type": "code",
   "execution_count": 31,
   "id": "840ea796",
   "metadata": {
    "collapsed": true
   },
   "outputs": [
    {
     "name": "stdout",
     "output_type": "stream",
     "text": [
      "['ALLOW_THREADS', 'AxisError', 'BUFSIZE', 'Bytes0', 'CLIP', 'ComplexWarning', 'DataSource', 'Datetime64', 'ERR_CALL', 'ERR_DEFAULT', 'ERR_IGNORE', 'ERR_LOG', 'ERR_PRINT', 'ERR_RAISE', 'ERR_WARN', 'FLOATING_POINT_SUPPORT', 'FPE_DIVIDEBYZERO', 'FPE_INVALID', 'FPE_OVERFLOW', 'FPE_UNDERFLOW', 'False_', 'Inf', 'Infinity', 'MAXDIMS', 'MAY_SHARE_BOUNDS', 'MAY_SHARE_EXACT', 'MachAr', 'ModuleDeprecationWarning', 'NAN', 'NINF', 'NZERO', 'NaN', 'PINF', 'PZERO', 'RAISE', 'RankWarning', 'SHIFT_DIVIDEBYZERO', 'SHIFT_INVALID', 'SHIFT_OVERFLOW', 'SHIFT_UNDERFLOW', 'ScalarType', 'Str0', 'Tester', 'TooHardError', 'True_', 'UFUNC_BUFSIZE_DEFAULT', 'UFUNC_PYVALS_NAME', 'Uint64', 'VisibleDeprecationWarning', 'WRAP', '_NoValue', '_UFUNC_API', '__NUMPY_SETUP__', '__all__', '__builtins__', '__cached__', '__config__', '__deprecated_attrs__', '__dir__', '__doc__', '__expired_functions__', '__file__', '__getattr__', '__git_version__', '__loader__', '__mkl_version__', '__name__', '__package__', '__path__', '__spec__', '__version__', '_add_newdoc_ufunc', '_distributor_init', '_financial_names', '_globals', '_mat', '_pytesttester', '_version', 'abs', 'absolute', 'add', 'add_docstring', 'add_newdoc', 'add_newdoc_ufunc', 'alen', 'all', 'allclose', 'alltrue', 'amax', 'amin', 'angle', 'any', 'append', 'apply_along_axis', 'apply_over_axes', 'arange', 'arccos', 'arccosh', 'arcsin', 'arcsinh', 'arctan', 'arctan2', 'arctanh', 'argmax', 'argmin', 'argpartition', 'argsort', 'argwhere', 'around', 'array', 'array2string', 'array_equal', 'array_equiv', 'array_repr', 'array_split', 'array_str', 'asanyarray', 'asarray', 'asarray_chkfinite', 'ascontiguousarray', 'asfarray', 'asfortranarray', 'asmatrix', 'asscalar', 'atleast_1d', 'atleast_2d', 'atleast_3d', 'average', 'bartlett', 'base_repr', 'binary_repr', 'bincount', 'bitwise_and', 'bitwise_not', 'bitwise_or', 'bitwise_xor', 'blackman', 'block', 'bmat', 'bool8', 'bool_', 'broadcast', 'broadcast_arrays', 'broadcast_shapes', 'broadcast_to', 'busday_count', 'busday_offset', 'busdaycalendar', 'byte', 'byte_bounds', 'bytes0', 'bytes_', 'c_', 'can_cast', 'cast', 'cbrt', 'cdouble', 'ceil', 'cfloat', 'char', 'character', 'chararray', 'choose', 'clip', 'clongdouble', 'clongfloat', 'column_stack', 'common_type', 'compare_chararrays', 'compat', 'complex128', 'complex64', 'complex_', 'complexfloating', 'compress', 'concatenate', 'conj', 'conjugate', 'convolve', 'copy', 'copysign', 'copyto', 'core', 'corrcoef', 'correlate', 'cos', 'cosh', 'count_nonzero', 'cov', 'cross', 'csingle', 'ctypeslib', 'cumprod', 'cumproduct', 'cumsum', 'datetime64', 'datetime_as_string', 'datetime_data', 'deg2rad', 'degrees', 'delete', 'deprecate', 'deprecate_with_doc', 'diag', 'diag_indices', 'diag_indices_from', 'diagflat', 'diagonal', 'diff', 'digitize', 'disp', 'divide', 'divmod', 'dot', 'double', 'dsplit', 'dstack', 'dtype', 'e', 'ediff1d', 'einsum', 'einsum_path', 'emath', 'empty', 'empty_like', 'equal', 'errstate', 'euler_gamma', 'exp', 'exp2', 'expand_dims', 'expm1', 'extract', 'eye', 'fabs', 'fastCopyAndTranspose', 'fft', 'fill_diagonal', 'find_common_type', 'finfo', 'fix', 'flatiter', 'flatnonzero', 'flexible', 'flip', 'fliplr', 'flipud', 'float16', 'float32', 'float64', 'float_', 'float_power', 'floating', 'floor', 'floor_divide', 'fmax', 'fmin', 'fmod', 'format_float_positional', 'format_float_scientific', 'format_parser', 'frexp', 'frombuffer', 'fromfile', 'fromfunction', 'fromiter', 'frompyfunc', 'fromregex', 'fromstring', 'full', 'full_like', 'gcd', 'generic', 'genfromtxt', 'geomspace', 'get_array_wrap', 'get_include', 'get_printoptions', 'getbufsize', 'geterr', 'geterrcall', 'geterrobj', 'gradient', 'greater', 'greater_equal', 'half', 'hamming', 'hanning', 'heaviside', 'histogram', 'histogram2d', 'histogram_bin_edges', 'histogramdd', 'hsplit', 'hstack', 'hypot', 'i0', 'identity', 'iinfo', 'imag', 'in1d', 'index_exp', 'indices', 'inexact', 'inf', 'info', 'infty', 'inner', 'insert', 'int0', 'int16', 'int32', 'int64', 'int8', 'int_', 'intc', 'integer', 'interp', 'intersect1d', 'intp', 'invert', 'is_busday', 'isclose', 'iscomplex', 'iscomplexobj', 'isfinite', 'isfortran', 'isin', 'isinf', 'isnan', 'isnat', 'isneginf', 'isposinf', 'isreal', 'isrealobj', 'isscalar', 'issctype', 'issubclass_', 'issubdtype', 'issubsctype', 'iterable', 'ix_', 'kaiser', 'kron', 'lcm', 'ldexp', 'left_shift', 'less', 'less_equal', 'lexsort', 'lib', 'linalg', 'linspace', 'little_endian', 'load', 'loads', 'loadtxt', 'log', 'log10', 'log1p', 'log2', 'logaddexp', 'logaddexp2', 'logical_and', 'logical_not', 'logical_or', 'logical_xor', 'logspace', 'longcomplex', 'longdouble', 'longfloat', 'longlong', 'lookfor', 'ma', 'mafromtxt', 'mask_indices', 'mat', 'math', 'matmul', 'matrix', 'matrixlib', 'max', 'maximum', 'maximum_sctype', 'may_share_memory', 'mean', 'median', 'memmap', 'meshgrid', 'mgrid', 'min', 'min_scalar_type', 'minimum', 'mintypecode', 'mkl', 'mod', 'modf', 'moveaxis', 'msort', 'multiply', 'nan', 'nan_to_num', 'nanargmax', 'nanargmin', 'nancumprod', 'nancumsum', 'nanmax', 'nanmean', 'nanmedian', 'nanmin', 'nanpercentile', 'nanprod', 'nanquantile', 'nanstd', 'nansum', 'nanvar', 'nbytes', 'ndarray', 'ndenumerate', 'ndfromtxt', 'ndim', 'ndindex', 'nditer', 'negative', 'nested_iters', 'newaxis', 'nextafter', 'nonzero', 'not_equal', 'numarray', 'number', 'obj2sctype', 'object0', 'object_', 'ogrid', 'oldnumeric', 'ones', 'ones_like', 'os', 'outer', 'packbits', 'pad', 'partition', 'percentile', 'pi', 'piecewise', 'place', 'poly', 'poly1d', 'polyadd', 'polyder', 'polydiv', 'polyfit', 'polyint', 'polymul', 'polynomial', 'polysub', 'polyval', 'positive', 'power', 'printoptions', 'prod', 'product', 'promote_types', 'ptp', 'put', 'put_along_axis', 'putmask', 'quantile', 'r_', 'rad2deg', 'radians', 'random', 'ravel', 'ravel_multi_index', 'real', 'real_if_close', 'rec', 'recarray', 'recfromcsv', 'recfromtxt', 'reciprocal', 'record', 'remainder', 'repeat', 'require', 'reshape', 'resize', 'result_type', 'right_shift', 'rint', 'roll', 'rollaxis', 'roots', 'rot90', 'round', 'round_', 'row_stack', 's_', 'safe_eval', 'save', 'savetxt', 'savez', 'savez_compressed', 'sctype2char', 'sctypeDict', 'sctypes', 'searchsorted', 'select', 'set_numeric_ops', 'set_printoptions', 'set_string_function', 'setbufsize', 'setdiff1d', 'seterr', 'seterrcall', 'seterrobj', 'setxor1d', 'shape', 'shares_memory', 'short', 'show_config', 'sign', 'signbit', 'signedinteger', 'sin', 'sinc', 'single', 'singlecomplex', 'sinh', 'size', 'sometrue', 'sort', 'sort_complex', 'source', 'spacing', 'split', 'sqrt', 'square', 'squeeze', 'stack', 'std', 'str0', 'str_', 'string_', 'subtract', 'sum', 'swapaxes', 'sys', 'take', 'take_along_axis', 'tan', 'tanh', 'tensordot', 'test', 'testing', 'tile', 'timedelta64', 'trace', 'tracemalloc_domain', 'transpose', 'trapz', 'tri', 'tril', 'tril_indices', 'tril_indices_from', 'trim_zeros', 'triu', 'triu_indices', 'triu_indices_from', 'true_divide', 'trunc', 'typecodes', 'typename', 'ubyte', 'ufunc', 'uint', 'uint0', 'uint16', 'uint32', 'uint64', 'uint8', 'uintc', 'uintp', 'ulonglong', 'unicode_', 'union1d', 'unique', 'unpackbits', 'unravel_index', 'unsignedinteger', 'unwrap', 'use_hugepage', 'ushort', 'vander', 'var', 'vdot', 'vectorize', 'version', 'void', 'void0', 'vsplit', 'vstack', 'warnings', 'where', 'who', 'zeros', 'zeros_like']\n"
     ]
    }
   ],
   "source": [
    "print(dir(var))"
   ]
  },
  {
   "cell_type": "code",
   "execution_count": 32,
   "id": "f6f596ea",
   "metadata": {
    "collapsed": true
   },
   "outputs": [
    {
     "name": "stdout",
     "output_type": "stream",
     "text": [
      "Help on built-in function array in module numpy:\n",
      "\n",
      "array(...)\n",
      "    array(object, dtype=None, *, copy=True, order='K', subok=False, ndmin=0,\n",
      "          like=None)\n",
      "    \n",
      "    Create an array.\n",
      "    \n",
      "    Parameters\n",
      "    ----------\n",
      "    object : array_like\n",
      "        An array, any object exposing the array interface, an object whose\n",
      "        __array__ method returns an array, or any (nested) sequence.\n",
      "    dtype : data-type, optional\n",
      "        The desired data-type for the array.  If not given, then the type will\n",
      "        be determined as the minimum type required to hold the objects in the\n",
      "        sequence.\n",
      "    copy : bool, optional\n",
      "        If true (default), then the object is copied.  Otherwise, a copy will\n",
      "        only be made if __array__ returns a copy, if obj is a nested sequence,\n",
      "        or if a copy is needed to satisfy any of the other requirements\n",
      "        (`dtype`, `order`, etc.).\n",
      "    order : {'K', 'A', 'C', 'F'}, optional\n",
      "        Specify the memory layout of the array. If object is not an array, the\n",
      "        newly created array will be in C order (row major) unless 'F' is\n",
      "        specified, in which case it will be in Fortran order (column major).\n",
      "        If object is an array the following holds.\n",
      "    \n",
      "        ===== ========= ===================================================\n",
      "        order  no copy                     copy=True\n",
      "        ===== ========= ===================================================\n",
      "        'K'   unchanged F & C order preserved, otherwise most similar order\n",
      "        'A'   unchanged F order if input is F and not C, otherwise C order\n",
      "        'C'   C order   C order\n",
      "        'F'   F order   F order\n",
      "        ===== ========= ===================================================\n",
      "    \n",
      "        When ``copy=False`` and a copy is made for other reasons, the result is\n",
      "        the same as if ``copy=True``, with some exceptions for 'A', see the\n",
      "        Notes section. The default order is 'K'.\n",
      "    subok : bool, optional\n",
      "        If True, then sub-classes will be passed-through, otherwise\n",
      "        the returned array will be forced to be a base-class array (default).\n",
      "    ndmin : int, optional\n",
      "        Specifies the minimum number of dimensions that the resulting\n",
      "        array should have.  Ones will be pre-pended to the shape as\n",
      "        needed to meet this requirement.\n",
      "    like : array_like\n",
      "        Reference object to allow the creation of arrays which are not\n",
      "        NumPy arrays. If an array-like passed in as ``like`` supports\n",
      "        the ``__array_function__`` protocol, the result will be defined\n",
      "        by it. In this case, it ensures the creation of an array object\n",
      "        compatible with that passed in via this argument.\n",
      "    \n",
      "        .. versionadded:: 1.20.0\n",
      "    \n",
      "    Returns\n",
      "    -------\n",
      "    out : ndarray\n",
      "        An array object satisfying the specified requirements.\n",
      "    \n",
      "    See Also\n",
      "    --------\n",
      "    empty_like : Return an empty array with shape and type of input.\n",
      "    ones_like : Return an array of ones with shape and type of input.\n",
      "    zeros_like : Return an array of zeros with shape and type of input.\n",
      "    full_like : Return a new array with shape of input filled with value.\n",
      "    empty : Return a new uninitialized array.\n",
      "    ones : Return a new array setting values to one.\n",
      "    zeros : Return a new array setting values to zero.\n",
      "    full : Return a new array of given shape filled with value.\n",
      "    \n",
      "    \n",
      "    Notes\n",
      "    -----\n",
      "    When order is 'A' and `object` is an array in neither 'C' nor 'F' order,\n",
      "    and a copy is forced by a change in dtype, then the order of the result is\n",
      "    not necessarily 'C' as expected. This is likely a bug.\n",
      "    \n",
      "    Examples\n",
      "    --------\n",
      "    >>> np.array([1, 2, 3])\n",
      "    array([1, 2, 3])\n",
      "    \n",
      "    Upcasting:\n",
      "    \n",
      "    >>> np.array([1, 2, 3.0])\n",
      "    array([ 1.,  2.,  3.])\n",
      "    \n",
      "    More than one dimension:\n",
      "    \n",
      "    >>> np.array([[1, 2], [3, 4]])\n",
      "    array([[1, 2],\n",
      "           [3, 4]])\n",
      "    \n",
      "    Minimum dimensions 2:\n",
      "    \n",
      "    >>> np.array([1, 2, 3], ndmin=2)\n",
      "    array([[1, 2, 3]])\n",
      "    \n",
      "    Type provided:\n",
      "    \n",
      "    >>> np.array([1, 2, 3], dtype=complex)\n",
      "    array([ 1.+0.j,  2.+0.j,  3.+0.j])\n",
      "    \n",
      "    Data-type consisting of more than one element:\n",
      "    \n",
      "    >>> x = np.array([(1,2),(3,4)],dtype=[('a','<i4'),('b','<i4')])\n",
      "    >>> x['a']\n",
      "    array([1, 3])\n",
      "    \n",
      "    Creating an array from sub-classes:\n",
      "    \n",
      "    >>> np.array(np.mat('1 2; 3 4'))\n",
      "    array([[1, 2],\n",
      "           [3, 4]])\n",
      "    \n",
      "    >>> np.array(np.mat('1 2; 3 4'), subok=True)\n",
      "    matrix([[1, 2],\n",
      "            [3, 4]])\n",
      "\n"
     ]
    }
   ],
   "source": [
    "help(var.array)"
   ]
  },
  {
   "cell_type": "code",
   "execution_count": 41,
   "id": "06e8f4da",
   "metadata": {
    "collapsed": true
   },
   "outputs": [
    {
     "name": "stdout",
     "output_type": "stream",
     "text": [
      "[3 4 5 6 7 8]\n",
      "['3' '4' '5' 'h']\n",
      "[10 11 12 13 14 15 16 17 18 19 20 21 22 23 24]\n",
      "{'st': ('anusha', 'Bhavya'), 'dept': ['CSE', 'AIML']}\n",
      "{4, 5, 6, 7, 9, 10, 45, 23}\n"
     ]
    }
   ],
   "source": [
    "# 1dimensional array\n",
    "print(var.array((3,4,5,6,7,8)))\n",
    "# tuple/list/set/str/dict\n",
    "print(var.array([3,4,5,'h'])) # homogenous\n",
    "print(var.array(range(10,25)))\n",
    "print(var.array({'st':('anusha','Bhavya'),\n",
    "                 'dept':['CSE','AIML']}))\n",
    "print(var.array({9,4,5,6,10,23,45,7,10}))"
   ]
  },
  {
   "cell_type": "code",
   "execution_count": 44,
   "id": "3245f835",
   "metadata": {
    "collapsed": true
   },
   "outputs": [
    {
     "name": "stdout",
     "output_type": "stream",
     "text": [
      "[[1. 2. 3.]\n",
      " [4. 5. 6.]]\n"
     ]
    }
   ],
   "source": [
    "# creating 2d arrays\n",
    "ar=var.array([[1,2,3],[4,5,6]],dtype=float)\n",
    "print(ar)"
   ]
  },
  {
   "cell_type": "code",
   "execution_count": 49,
   "id": "2e9d78f9",
   "metadata": {
    "collapsed": true
   },
   "outputs": [
    {
     "name": "stdout",
     "output_type": "stream",
     "text": [
      "[[1. +0.j 2. +0.j 3. +0.j]\n",
      " [6.3+0.j 4.3+0.j 5. +0.j]]\n"
     ]
    }
   ],
   "source": [
    "ar2=var.array([[1,2,3],[6.3,4.3,5]],dtype=complex)\n",
    "print(ar2)"
   ]
  },
  {
   "cell_type": "code",
   "execution_count": 52,
   "id": "248b01d2",
   "metadata": {
    "collapsed": true
   },
   "outputs": [
    {
     "name": "stdout",
     "output_type": "stream",
     "text": [
      "[[[[[[[[[['5' '6' '12' '34' '90']]]]]]]]]]\n"
     ]
    }
   ],
   "source": [
    "# we can create 32 dimensional array\n",
    "print(var.array([5,6,12,34,90],ndmin=10,dtype=str))"
   ]
  },
  {
   "cell_type": "code",
   "execution_count": 57,
   "id": "9eb3f595",
   "metadata": {
    "collapsed": true
   },
   "outputs": [
    {
     "name": "stdout",
     "output_type": "stream",
     "text": [
      "float64\n",
      "6\n",
      "(2, 3)\n",
      "8\n",
      "2\n"
     ]
    }
   ],
   "source": [
    "print(ar.dtype)\n",
    "print(ar.size)\n",
    "print(ar.shape)\n",
    "print(ar.itemsize)\n",
    "print(ar.ndim) # "
   ]
  },
  {
   "cell_type": "markdown",
   "id": "f1a49cc3",
   "metadata": {},
   "source": [
    "#### funtions that supports to create arrays\n",
    "- arange()\n",
    "- ones()\n",
    "- zeros()\n",
    "- full()\n",
    "- fill()\n",
    "- linspace()\n",
    "- diag()\n",
    "- identity()\n",
    "- eye()\n",
    "- random()\n",
    "- reshape()"
   ]
  },
  {
   "cell_type": "code",
   "execution_count": 59,
   "id": "7fe6d50d",
   "metadata": {
    "collapsed": true
   },
   "outputs": [
    {
     "name": "stdout",
     "output_type": "stream",
     "text": [
      "[10 11 12 13 14 15 16 17 18 19 20 21 22 23 24]\n",
      "[20 24 28 32 36 40 44 48 52 56 60 64 68 72 76]\n"
     ]
    }
   ],
   "source": [
    "print(var.arange(10,25))\n",
    "print(var.arange(20,78,4))"
   ]
  },
  {
   "cell_type": "code",
   "execution_count": 63,
   "id": "357c7431",
   "metadata": {
    "collapsed": true
   },
   "outputs": [
    {
     "name": "stdout",
     "output_type": "stream",
     "text": [
      "[[ 0  1  2  3  4  5  6  7  8]\n",
      " [ 9 10 11 12 13 14 15 16 17]\n",
      " [18 19 20 21 22 23 24 25 26]\n",
      " [27 28 29 30 31 32 33 34 35]\n",
      " [36 37 38 39 40 41 42 43 44]]\n",
      "[[[ 0  1  2]\n",
      "  [ 3  4  5]\n",
      "  [ 6  7  8]\n",
      "  [ 9 10 11]\n",
      "  [12 13 14]]\n",
      "\n",
      " [[15 16 17]\n",
      "  [18 19 20]\n",
      "  [21 22 23]\n",
      "  [24 25 26]\n",
      "  [27 28 29]]\n",
      "\n",
      " [[30 31 32]\n",
      "  [33 34 35]\n",
      "  [36 37 38]\n",
      "  [39 40 41]\n",
      "  [42 43 44]]]\n"
     ]
    }
   ],
   "source": [
    "# convert the above 1d array into ->2d &3d arrays\n",
    "arn=var.arange(45).reshape(5,9)  #2d\n",
    "#45-->(1,45),(3,15),(5,9) and vice-versa\n",
    "print(arn)\n",
    "#(45)->(3,15)->(3,3,5) or(3,5,3)\n",
    "ar3=var.arange(45).reshape(3,5,3) # (n,r,c)\n",
    "print(ar3)"
   ]
  },
  {
   "cell_type": "code",
   "execution_count": 68,
   "id": "09683724",
   "metadata": {
    "collapsed": true
   },
   "outputs": [
    {
     "name": "stdout",
     "output_type": "stream",
     "text": [
      "[1. 1. 1. 1.]\n",
      "[[1 1 1 1 1]\n",
      " [1 1 1 1 1]\n",
      " [1 1 1 1 1]\n",
      " [1 1 1 1 1]]\n"
     ]
    }
   ],
   "source": [
    "print(var.ones(4)) # 1d\n",
    "print(var.ones((4,5),dtype=int)) #2d"
   ]
  },
  {
   "cell_type": "code",
   "execution_count": 69,
   "id": "2f30e261",
   "metadata": {
    "collapsed": true
   },
   "outputs": [
    {
     "name": "stdout",
     "output_type": "stream",
     "text": [
      "[0. 0. 0. 0. 0.]\n",
      "[[0. 0. 0.]\n",
      " [0. 0. 0.]\n",
      " [0. 0. 0.]]\n"
     ]
    }
   ],
   "source": [
    "print(var.zeros(5))\n",
    "print(var.zeros((3,3)))"
   ]
  },
  {
   "cell_type": "code",
   "execution_count": 73,
   "id": "13ce5ffc",
   "metadata": {
    "collapsed": true
   },
   "outputs": [
    {
     "name": "stdout",
     "output_type": "stream",
     "text": [
      "[9 9 9 9]\n",
      "[[5 5 5 5]\n",
      " [5 5 5 5]\n",
      " [5 5 5 5]\n",
      " [5 5 5 5]]\n"
     ]
    },
    {
     "data": {
      "text/plain": [
       "array([[8, 8, 8, 8],\n",
       "       [8, 8, 8, 8],\n",
       "       [8, 8, 8, 8],\n",
       "       [8, 8, 8, 8]])"
      ]
     },
     "execution_count": 73,
     "metadata": {},
     "output_type": "execute_result"
    }
   ],
   "source": [
    "print(var.full(4,9))\n",
    "fl=var.full((4,4),5)\n",
    "print(fl)\n",
    "fl.fill(8)\n",
    "fl"
   ]
  },
  {
   "cell_type": "code",
   "execution_count": 74,
   "id": "e402f020",
   "metadata": {
    "collapsed": true
   },
   "outputs": [
    {
     "data": {
      "text/plain": [
       "array([[4, 0, 0, 0],\n",
       "       [0, 5, 0, 0],\n",
       "       [0, 0, 6, 0],\n",
       "       [0, 0, 0, 9]])"
      ]
     },
     "execution_count": 74,
     "metadata": {},
     "output_type": "execute_result"
    }
   ],
   "source": [
    "#diag\n",
    "var.diag([4,5,6,9])"
   ]
  },
  {
   "cell_type": "code",
   "execution_count": 79,
   "id": "68caf73c",
   "metadata": {
    "collapsed": true
   },
   "outputs": [
    {
     "name": "stdout",
     "output_type": "stream",
     "text": [
      "[[ 0  1  2  3  4  5  6  7  8  9 10 11 12 13 14 15 16 17 18 19 20 21 22 23\n",
      "  24 25 26 27 28 29 30 31]\n",
      " [32 33 34 35 36 37 38 39 40 41 42 43 44 45 46 47 48 49 50 51 52 53 54 55\n",
      "  56 57 58 59 60 61 62 63]\n",
      " [64 65 66 67 68 69 70 71 72 73 74 75 76 77 78 79 80 81 82 83 84 85 86 87\n",
      "  88 89 90 91 92 93 94 95]]\n"
     ]
    }
   ],
   "source": [
    "r=var.arange(96).reshape(3,-1)\n",
    "print(r)"
   ]
  },
  {
   "cell_type": "code",
   "execution_count": 80,
   "id": "e42fefcb",
   "metadata": {
    "collapsed": true
   },
   "outputs": [
    {
     "name": "stdout",
     "output_type": "stream",
     "text": [
      "[[ 0  1  2]\n",
      " [ 3  4  5]\n",
      " [ 6  7  8]\n",
      " [ 9 10 11]\n",
      " [12 13 14]\n",
      " [15 16 17]\n",
      " [18 19 20]\n",
      " [21 22 23]\n",
      " [24 25 26]\n",
      " [27 28 29]\n",
      " [30 31 32]\n",
      " [33 34 35]\n",
      " [36 37 38]\n",
      " [39 40 41]\n",
      " [42 43 44]\n",
      " [45 46 47]\n",
      " [48 49 50]\n",
      " [51 52 53]\n",
      " [54 55 56]\n",
      " [57 58 59]\n",
      " [60 61 62]\n",
      " [63 64 65]\n",
      " [66 67 68]\n",
      " [69 70 71]\n",
      " [72 73 74]\n",
      " [75 76 77]]\n"
     ]
    }
   ],
   "source": [
    "r2=var.arange(78).reshape(-4,3)\n",
    "print(r2)"
   ]
  },
  {
   "cell_type": "code",
   "execution_count": 81,
   "id": "9a56986a",
   "metadata": {
    "collapsed": true
   },
   "outputs": [
    {
     "data": {
      "text/plain": [
       "array([ 0,  6, 12, 18, 24])"
      ]
     },
     "execution_count": 81,
     "metadata": {},
     "output_type": "execute_result"
    }
   ],
   "source": [
    "#diagongal values of 5x5\n",
    "var.diag(var.arange(25).reshape(5,5))"
   ]
  },
  {
   "cell_type": "code",
   "execution_count": 85,
   "id": "537430cb",
   "metadata": {
    "collapsed": true
   },
   "outputs": [
    {
     "name": "stdout",
     "output_type": "stream",
     "text": [
      "[[3.         3.26315789 3.52631579 3.78947368 4.05263158]\n",
      " [4.31578947 4.57894737 4.84210526 5.10526316 5.36842105]\n",
      " [5.63157895 5.89473684 6.15789474 6.42105263 6.68421053]\n",
      " [6.94736842 7.21052632 7.47368421 7.73684211 8.        ]]\n"
     ]
    }
   ],
   "source": [
    "#linspace:linear space:linearly separating the given range\n",
    "#giving the 50 distribution values by default \n",
    "print(var.linspace(3,8,20).reshape(4,5)) # both limits are inclusive"
   ]
  },
  {
   "cell_type": "code",
   "execution_count": 83,
   "id": "57762762",
   "metadata": {},
   "outputs": [
    {
     "data": {
      "text/plain": [
       "0.12"
      ]
     },
     "execution_count": 83,
     "metadata": {},
     "output_type": "execute_result"
    }
   ],
   "source": [
    "#3,4,5,6,7,8:\n",
    "6/50"
   ]
  },
  {
   "cell_type": "markdown",
   "id": "2c05f65e",
   "metadata": {},
   "source": [
    "#### random\n",
    "- random is the sub module of numpy which is used to generate random values \n",
    "- var.random.random()\n",
    "- var.random.rand()\n",
    "- var.random.randf()\n",
    "- var.random.randn()\n",
    "- var.random.randint()\n",
    "- var.random.randint(,)\n",
    "- var.random.randint(,,)\n"
   ]
  },
  {
   "cell_type": "code",
   "execution_count": 87,
   "id": "0f766f2e",
   "metadata": {
    "collapsed": true
   },
   "outputs": [
    {
     "name": "stdout",
     "output_type": "stream",
     "text": [
      "[[0.16419457 0.62711548 0.9791671  0.57320297]\n",
      " [0.13719103 0.69792903 0.92329102 0.64796869]\n",
      " [0.76417168 0.21233463 0.78827988 0.44390696]]\n"
     ]
    }
   ],
   "source": [
    "print(var.random.random((3,4))) # "
   ]
  },
  {
   "cell_type": "code",
   "execution_count": 91,
   "id": "2263df0d",
   "metadata": {
    "collapsed": true
   },
   "outputs": [
    {
     "name": "stdout",
     "output_type": "stream",
     "text": [
      "['BitGenerator', 'Generator', 'MT19937', 'PCG64', 'PCG64DXSM', 'Philox', 'RandomState', 'SFC64', 'SeedSequence', '__RandomState_ctor', '__all__', '__builtins__', '__cached__', '__doc__', '__file__', '__loader__', '__name__', '__package__', '__path__', '__spec__', '_bounded_integers', '_common', '_generator', '_mt19937', '_pcg64', '_philox', '_pickle', '_sfc64', 'beta', 'binomial', 'bit_generator', 'bytes', 'chisquare', 'choice', 'default_rng', 'dirichlet', 'exponential', 'f', 'gamma', 'geometric', 'get_state', 'gumbel', 'hypergeometric', 'laplace', 'logistic', 'lognormal', 'logseries', 'mtrand', 'multinomial', 'multivariate_normal', 'negative_binomial', 'noncentral_chisquare', 'noncentral_f', 'normal', 'pareto', 'permutation', 'poisson', 'power', 'rand', 'randint', 'randn', 'random', 'random_integers', 'random_sample', 'ranf', 'rayleigh', 'sample', 'seed', 'set_state', 'shuffle', 'standard_cauchy', 'standard_exponential', 'standard_gamma', 'standard_normal', 'standard_t', 'test', 'triangular', 'uniform', 'vonmises', 'wald', 'weibull', 'zipf']\n"
     ]
    }
   ],
   "source": [
    "print(dir(var.random))"
   ]
  },
  {
   "cell_type": "code",
   "execution_count": 93,
   "id": "ecbf0792",
   "metadata": {
    "collapsed": true
   },
   "outputs": [
    {
     "name": "stdout",
     "output_type": "stream",
     "text": [
      "[[0.88607642 0.27891905 0.56443569]\n",
      " [0.128779   0.22734368 0.20214076]\n",
      " [0.42687402 0.16917827 0.81139254]\n",
      " [0.74611903 0.03872187 0.34179242]]\n"
     ]
    }
   ],
   "source": [
    "print(var.random.ranf((4,3)))"
   ]
  },
  {
   "cell_type": "code",
   "execution_count": 94,
   "id": "f4f84154",
   "metadata": {
    "collapsed": true
   },
   "outputs": [
    {
     "name": "stdout",
     "output_type": "stream",
     "text": [
      "[[0.34410698 0.88143867 0.05695597]\n",
      " [0.98211918 0.66937472 0.15068737]\n",
      " [0.77979953 0.91841271 0.25211525]]\n"
     ]
    }
   ],
   "source": [
    "print(var.random.rand(3,3))"
   ]
  },
  {
   "cell_type": "code",
   "execution_count": 95,
   "id": "e730c2a5",
   "metadata": {
    "collapsed": true
   },
   "outputs": [
    {
     "name": "stdout",
     "output_type": "stream",
     "text": [
      "[[ 0.14567745  0.23139934  0.5962566 ]\n",
      " [-0.38387953 -0.77728679  1.43476434]\n",
      " [-0.5232866   1.80320546 -0.38282196]]\n"
     ]
    }
   ],
   "source": [
    "print(var.random.randn(3,3))"
   ]
  },
  {
   "cell_type": "code",
   "execution_count": 100,
   "id": "2fadbdbf",
   "metadata": {},
   "outputs": [
    {
     "name": "stdout",
     "output_type": "stream",
     "text": [
      "61162\n",
      "3994\n",
      "[[[172 230 218 101 242 248 161 220 107 259]\n",
      "  [100 285 234 173 137 250 225 152 259 119]\n",
      "  [117 223 242 181 147 171 158 274 110 109]\n",
      "  [146 171 262 192 299 120 294 199 234 242]\n",
      "  [179 196 168 238 283 295 253 239 120 104]\n",
      "  [278 280 237 224 230 259 159 106 114 259]\n",
      "  [194 102 225 156 181 169 161 153 255 160]\n",
      "  [185 140 101 116 164 189 101 269 154 283]\n",
      "  [254 149 162 182 294 220 268 144 226 180]\n",
      "  [274 180 231 154 195 168 110 236 246 201]]\n",
      "\n",
      " [[223 280 134 214 111 286 262 185 209 290]\n",
      "  [298 223 170 236 275 194 268 139 102 139]\n",
      "  [228 236 294 257 198 100 212 159 211 282]\n",
      "  [254 124 181 195 197 151 255 101 230 128]\n",
      "  [276 265 277 109 148 111 186 264 181 168]\n",
      "  [180 254 160 224 142 198 154 234 131 198]\n",
      "  [210 143 111 108 254 272 272 286 102 227]\n",
      "  [131 292 108 227 183 158 169 205 131 245]\n",
      "  [129 283 247 268 199 103 138 197 226 288]\n",
      "  [230 185 266 192 102 258 231 225 155 100]]\n",
      "\n",
      " [[145 196 249 100 103 270 239 267 191 171]\n",
      "  [195 115 289 262 256 165 187 222 196 151]\n",
      "  [136 109 242 112 250 280 158 107 229 136]\n",
      "  [189 294 299 266 132 144 203 176 158 158]\n",
      "  [156 109 152 174 213 112 103 157 205 196]\n",
      "  [189 116 202 143 291 162 141 209 101 263]\n",
      "  [201 175 273 141 228 159 142 229 200 195]\n",
      "  [146 222 172 276 208 288 254 213 217 123]\n",
      "  [131 115 200 209 145 190 199 154 120 228]\n",
      "  [263 179 148 266 136 161 123 177 296 132]]\n",
      "\n",
      " [[212 292 147 148 160 161 285 122 108 198]\n",
      "  [269 201 113 229 154 175 138 100 230 154]\n",
      "  [253 253 191 191 126 156 208 172 281 142]\n",
      "  [247 208 214 133 276 173 284 152 292 127]\n",
      "  [122 261 173 105 106 243 176 241 271 277]\n",
      "  [189 298 168 206 297 213 241 253 106 211]\n",
      "  [148 200 102 208 114 256 196 244 101 221]\n",
      "  [168 108 152 197 275 229 201 194 131 193]\n",
      "  [162 139 286 260 256 227 273 242 252 246]\n",
      "  [160 239 168 267 168 167 215 291 275 240]]\n",
      "\n",
      " [[208 155 138 183 234 274 221 258 281 297]\n",
      "  [144 281 135 127 184 167 272 263 111 252]\n",
      "  [195 199 164 227 169 298 134 156 205 176]\n",
      "  [253 269 222 267 235 109 213 244 175 192]\n",
      "  [128 284 271 220 234 126 152 252 139 272]\n",
      "  [216 284 286 295 238 139 129 140 132 194]\n",
      "  [260 234 182 199 287 187 257 162 260 155]\n",
      "  [251 281 143 222 200 117 232 258 127 195]\n",
      "  [255 186 226 253 261 278 118 284 190 179]\n",
      "  [173 153 156 127 297 256 114 243 143 223]]\n",
      "\n",
      " [[230 246 292 141 188 231 207 256 246 125]\n",
      "  [164 164 147 197 140 241 110 135 238 152]\n",
      "  [187 215 105 183 234 163 113 160 233 125]\n",
      "  [296 137 257 147 167 291 144 188 204 146]\n",
      "  [268 248 278 224 113 188 159 139 138 109]\n",
      "  [214 161 280 148 166 218 220 223 156 206]\n",
      "  [115 270 147 130 121 110 261 291 164 131]\n",
      "  [126 108 214 256 212 142 111 245 204 157]\n",
      "  [169 151 225 141 179 218 198 121 132 253]\n",
      "  [179 221 198 106 208 222 248 232 233 202]]\n",
      "\n",
      " [[123 159 175 244 244 292 298 231 146 273]\n",
      "  [111 263 135 229 188 177 286 179 270 202]\n",
      "  [178 274 123 128 177 207 131 100 158 235]\n",
      "  [203 203 278 195 248 213 162 165 259 231]\n",
      "  [109 233 270 188 293 286 206 116 211 215]\n",
      "  [127 102 116 155 102 232 171 170 287 212]\n",
      "  [135 281 247 203 128 167 174 101 171 131]\n",
      "  [241 241 123 156 177 215 261 220 106 194]\n",
      "  [204 190 132 252 121 277 277 267 256 112]\n",
      "  [169 205 191 189 271 140 223 148 256 270]]\n",
      "\n",
      " [[129 177 215 254 138 214 182 174 184 245]\n",
      "  [122 271 111 138 155 203 298 225 136 212]\n",
      "  [256 280 103 164 241 282 193 234 140 136]\n",
      "  [118 145 184 176 128 277 272 135 165 158]\n",
      "  [299 273 180 290 181 192 260 274 159 160]\n",
      "  [101 187 217 194 125 171 142 112 116 130]\n",
      "  [239 240 195 201 172 269 241 220 252 113]\n",
      "  [108 224 218 241 101 250 159 284 216 282]\n",
      "  [159 239 281 205 218 249 217 215 122 237]\n",
      "  [205 164 227 104 139 183 222 115 249 139]]\n",
      "\n",
      " [[164 203 203 250 108 250 176 141 213 134]\n",
      "  [243 239 135 191 276 269 240 134 203 277]\n",
      "  [212 140 207 163 125 286 160 180 145 189]\n",
      "  [178 114 132 109 193 266 168 248 103 104]\n",
      "  [197 140 262 143 238 199 196 168 106 184]\n",
      "  [182 112 272 200 169 255 271 112 245 184]\n",
      "  [143 283 137 254 283 181 120 107 153 108]\n",
      "  [233 184 218 267 246 151 125 182 254 103]\n",
      "  [245 205 270 228 267 218 176 290 281 101]\n",
      "  [120 233 291 119 178 136 116 205 185 167]]]\n"
     ]
    }
   ],
   "source": [
    "print(var.random.randint(100000))\n",
    "print(var.random.randint(100,4565))\n",
    "print(var.random.randint(100,300,900).reshape(9,10,10))# (lw,up,n)"
   ]
  },
  {
   "cell_type": "markdown",
   "id": "36671af3",
   "metadata": {},
   "source": [
    "##### array indexing and slicing\n",
    "- 2types\n",
    "    1. formal indexing\n",
    "        - 2ways\n",
    "            1. forward/+ve indexing\n",
    "                - starts from 0 to len(it)-1\n",
    "                - travers from left to right\n",
    "            2. backward/-ve indexing\n",
    "                - starts from right to left\n",
    "                - -1 to -infinite\n",
    "    2. fancy indexing\n",
    "        - condition based indexing"
   ]
  },
  {
   "cell_type": "code",
   "execution_count": 101,
   "id": "9cee6b43",
   "metadata": {
    "collapsed": true
   },
   "outputs": [
    {
     "data": {
      "text/plain": [
       "array([[154, 121, 253, 168, 109],\n",
       "       [299, 179, 149, 199, 169],\n",
       "       [148, 264, 278, 143, 294],\n",
       "       [209, 191, 139, 263, 230],\n",
       "       [117, 253, 122, 293, 276]])"
      ]
     },
     "execution_count": 101,
     "metadata": {},
     "output_type": "execute_result"
    }
   ],
   "source": [
    "ran=var.random.randint(100,300,25).reshape(5,5)\n",
    "ran"
   ]
  },
  {
   "cell_type": "code",
   "execution_count": 102,
   "id": "fdfd19e8",
   "metadata": {
    "collapsed": true
   },
   "outputs": [
    {
     "data": {
      "text/plain": [
       "array([[False, False,  True, False, False],\n",
       "       [ True, False, False, False, False],\n",
       "       [False,  True,  True, False,  True],\n",
       "       [False, False, False,  True, False],\n",
       "       [False,  True, False,  True,  True]])"
      ]
     },
     "execution_count": 102,
     "metadata": {},
     "output_type": "execute_result"
    }
   ],
   "source": [
    "# array which satisfy the condition\n",
    "ran>250"
   ]
  },
  {
   "cell_type": "code",
   "execution_count": 105,
   "id": "b86dd8be",
   "metadata": {
    "collapsed": true
   },
   "outputs": [
    {
     "data": {
      "text/plain": [
       "array([[253, 299, 264],\n",
       "       [278, 294, 263],\n",
       "       [253, 293, 276]])"
      ]
     },
     "execution_count": 105,
     "metadata": {},
     "output_type": "execute_result"
    }
   ],
   "source": [
    "ran[ran>250].reshape(3,3)"
   ]
  },
  {
   "cell_type": "code",
   "execution_count": null,
   "id": "a4a5a59d",
   "metadata": {},
   "outputs": [],
   "source": []
  }
 ],
 "metadata": {
  "kernelspec": {
   "display_name": "Python 3 (ipykernel)",
   "language": "python",
   "name": "python3"
  },
  "language_info": {
   "codemirror_mode": {
    "name": "ipython",
    "version": 3
   },
   "file_extension": ".py",
   "mimetype": "text/x-python",
   "name": "python",
   "nbconvert_exporter": "python",
   "pygments_lexer": "ipython3",
   "version": "3.9.13"
  }
 },
 "nbformat": 4,
 "nbformat_minor": 5
}
